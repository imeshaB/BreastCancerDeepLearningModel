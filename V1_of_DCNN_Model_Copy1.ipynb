{
  "cells": [
    {
      "cell_type": "code",
      "execution_count": null,
      "id": "8e43d0dc-2e49-4e17-a4ea-bb6fdcbb7e56",
      "metadata": {
        "id": "8e43d0dc-2e49-4e17-a4ea-bb6fdcbb7e56"
      },
      "outputs": [],
      "source": [
        "import tensorflow as tf\n",
        "from tensorflow.keras.preprocessing.image import ImageDataGenerator\n",
        "from tensorflow.keras.utils import to_categorical\n",
        "from tensorflow.keras.models import Sequential\n",
        "from tensorflow.keras.layers import Conv2D, MaxPooling2D, Flatten, Dense, Dropout, Input, BatchNormalization\n",
        "\n",
        "from sklearn.preprocessing import LabelEncoder, StandardScaler\n",
        "from sklearn.model_selection import train_test_split\n",
        "from skimage.io import imread\n",
        "from skimage.transform import resize\n",
        "import numpy as np\n",
        "import os\n",
        "import matplotlib.pyplot as plt\n",
        "from sklearn.utils.class_weight import compute_class_weight\n",
        "from sklearn.metrics import accuracy_score, classification_report, confusion_matrix,ConfusionMatrixDisplay"
      ]
    },
    {
      "cell_type": "code",
      "source": [
        "import tensorflow as tf\n",
        "print(tf.__version__)\n",
        "print(tf.keras.__version__)\n"
      ],
      "metadata": {
        "colab": {
          "base_uri": "https://localhost:8080/"
        },
        "id": "yErJWH4QpXVa",
        "outputId": "24bf3e00-afe1-4016-e694-443ba98b3c17"
      },
      "id": "yErJWH4QpXVa",
      "execution_count": null,
      "outputs": [
        {
          "output_type": "stream",
          "name": "stdout",
          "text": [
            "2.17.0\n",
            "3.4.1\n"
          ]
        }
      ]
    },
    {
      "cell_type": "code",
      "source": [
        "import tensorflow as tf\n",
        "from tensorflow.keras.preprocessing.image import ImageDataGenerator\n",
        "from tensorflow.keras.models import Sequential\n",
        "from tensorflow.keras.layers import Conv2D, MaxPooling2D, Flatten, Dense\n",
        "\n",
        "print(\"All imports were successful!\")\n"
      ],
      "metadata": {
        "colab": {
          "base_uri": "https://localhost:8080/"
        },
        "id": "1e1fGIK6p4aH",
        "outputId": "82a40f30-647d-43d0-df4e-48265d643282"
      },
      "id": "1e1fGIK6p4aH",
      "execution_count": null,
      "outputs": [
        {
          "output_type": "stream",
          "name": "stdout",
          "text": [
            "All imports were successful!\n"
          ]
        }
      ]
    },
    {
      "cell_type": "code",
      "execution_count": null,
      "id": "659cc7e0-10a9-4f70-bfb4-53035cdc39e3",
      "metadata": {
        "id": "659cc7e0-10a9-4f70-bfb4-53035cdc39e3"
      },
      "outputs": [],
      "source": [
        "# Load images and labels\n",
        "def load_images_and_labels(folder_path, image_size=(224, 224)):\n",
        "    images = []\n",
        "    labels = []\n",
        "    for file in os.listdir(folder_path):\n",
        "        file_path = os.path.join(folder_path, file)\n",
        "        try:\n",
        "            image = imread(file_path)\n",
        "            if image is not None:\n",
        "                image = resize(image, image_size, anti_aliasing=True)\n",
        "                images.append(image)\n",
        "                label = file.rsplit('_', 1)[0]\n",
        "                labels.append(label)\n",
        "        except Exception as e:\n",
        "            print(f\"Error loading {file}: {e}\")\n",
        "    return np.array(images), np.array(labels)\n"
      ]
    },
    {
      "cell_type": "code",
      "source": [
        "from google.colab import drive\n",
        "drive.mount('/content/drive', force_remount=True)"
      ],
      "metadata": {
        "colab": {
          "base_uri": "https://localhost:8080/"
        },
        "id": "R-FSTA3CR-Cq",
        "outputId": "d7877a63-5d8c-4e7f-85bf-adf7a2c8790f"
      },
      "id": "R-FSTA3CR-Cq",
      "execution_count": null,
      "outputs": [
        {
          "output_type": "stream",
          "name": "stdout",
          "text": [
            "Mounted at /content/drive\n"
          ]
        }
      ]
    },
    {
      "cell_type": "code",
      "execution_count": null,
      "id": "81e8233b-ec73-42aa-9c12-648578f5fcfc",
      "metadata": {
        "id": "81e8233b-ec73-42aa-9c12-648578f5fcfc"
      },
      "outputs": [],
      "source": [
        "# Load dataset\n",
        "folder_path =  '/content/drive/MyDrive/Colab Notebooks/Model/Data/Mendeley/classificacao_binaria/images'\n",
        "images, labels = load_images_and_labels(folder_path)\n",
        "\n",
        "img_train, img_test, lbl_train, lbl_test = train_test_split(images, labels, test_size=0.2, random_state=42)\n"
      ]
    },
    {
      "cell_type": "code",
      "source": [
        "\n",
        "# Check the shape of images and labels\n",
        "print(\"Shape of images:\", images.shape)\n",
        "print(\"Shape of labels:\", labels.shape)"
      ],
      "metadata": {
        "colab": {
          "base_uri": "https://localhost:8080/"
        },
        "id": "5DAddpJHYn1Z",
        "outputId": "e4c3e027-ff37-46c2-f98d-efeff1c2c3ac"
      },
      "id": "5DAddpJHYn1Z",
      "execution_count": null,
      "outputs": [
        {
          "output_type": "stream",
          "name": "stdout",
          "text": [
            "Shape of images: (3833, 224, 224, 3)\n",
            "Shape of labels: (3833,)\n"
          ]
        }
      ]
    },
    {
      "cell_type": "markdown",
      "id": "9d8894ca-22a7-47fb-9c29-bf6d879a7331",
      "metadata": {
        "id": "9d8894ca-22a7-47fb-9c29-bf6d879a7331"
      },
      "source": [
        "# Data Preprocessing"
      ]
    },
    {
      "cell_type": "code",
      "execution_count": null,
      "id": "f9cc1e76-db4b-4b89-88f5-e6059d95b363",
      "metadata": {
        "id": "f9cc1e76-db4b-4b89-88f5-e6059d95b363"
      },
      "outputs": [],
      "source": [
        "# Normalize the data\n",
        "img_train = img_train / 255.0\n",
        "img_test = img_test / 255.0"
      ]
    },
    {
      "cell_type": "code",
      "execution_count": null,
      "id": "99cd6083-aa11-4034-9729-033cbe04020f",
      "metadata": {
        "id": "99cd6083-aa11-4034-9729-033cbe04020f"
      },
      "outputs": [],
      "source": [
        "# Encode labels\n",
        "label_encoder = LabelEncoder()\n",
        "lbl_train_encoded = label_encoder.fit_transform(lbl_train)\n",
        "lbl_test_encoded = label_encoder.transform(lbl_test)\n",
        "\n",
        "num_classes = len(label_encoder.classes_)\n",
        "\n",
        "# Convert labels to categorical\n",
        "lbl_train_encoded = to_categorical(lbl_train_encoded, num_classes=num_classes)\n",
        "lbl_test_encoded = to_categorical(lbl_test_encoded, num_classes=num_classes)"
      ]
    },
    {
      "cell_type": "code",
      "execution_count": null,
      "id": "9f50d75d-a284-40d6-985e-b11d97551342",
      "metadata": {
        "jupyter": {
          "source_hidden": true
        },
        "id": "9f50d75d-a284-40d6-985e-b11d97551342"
      },
      "outputs": [],
      "source": [
        "\n",
        "# Define ImageDataGenerator with optimized augmentations\n",
        "datagen = ImageDataGenerator(\n",
        "    rotation_range=5,\n",
        "    width_shift_range=0.05,\n",
        "    height_shift_range=0.05,\n",
        "    shear_range=0.05,\n",
        "    zoom_range=0.05,\n",
        "    horizontal_flip=True,\n",
        "    fill_mode='nearest'\n",
        ")\n",
        "\n",
        "# Generate augmented data\n",
        "def augment_data(X, y, datagen, target_size):\n",
        "    augment_size = target_size - len(X)\n",
        "    X_augmented, y_augmented = [], []\n",
        "\n",
        "    for X_batch, y_batch in datagen.flow(X, y, batch_size=32):\n",
        "        X_augmented.extend(X_batch[:augment_size - len(X_augmented)])\n",
        "        y_augmented.extend(y_batch[:augment_size - len(y_augmented)])\n",
        "\n",
        "        if len(X_augmented) >= augment_size:\n",
        "            break\n",
        "\n",
        "    return np.vstack((X, X_augmented)), np.hstack((y, y_augmented))"
      ]
    },
    {
      "cell_type": "code",
      "execution_count": null,
      "id": "e7f57972-6a42-46da-8dfa-ad778b3befa3",
      "metadata": {
        "collapsed": true,
        "jupyter": {
          "outputs_hidden": true,
          "source_hidden": true
        },
        "id": "e7f57972-6a42-46da-8dfa-ad778b3befa3",
        "outputId": "922ef35e-eb22-42aa-c1ec-ce2889f3f62b"
      },
      "outputs": [
        {
          "ename": "KeyboardInterrupt",
          "evalue": "",
          "output_type": "error",
          "traceback": [
            "\u001b[1;31m---------------------------------------------------------------------------\u001b[0m",
            "\u001b[1;31mKeyboardInterrupt\u001b[0m                         Traceback (most recent call last)",
            "Cell \u001b[1;32mIn[12], line 8\u001b[0m\n\u001b[0;32m      5\u001b[0m img_augmented, lbl_augmented \u001b[38;5;241m=\u001b[39m augment_data(img_train, lbl_train, datagen, target_size)\n\u001b[0;32m      7\u001b[0m \u001b[38;5;66;03m# Combine original and augmented data\u001b[39;00m\n\u001b[1;32m----> 8\u001b[0m img_train_combined \u001b[38;5;241m=\u001b[39m \u001b[43mnp\u001b[49m\u001b[38;5;241;43m.\u001b[39;49m\u001b[43mvstack\u001b[49m\u001b[43m(\u001b[49m\u001b[43m(\u001b[49m\u001b[43mimg_train\u001b[49m\u001b[43m,\u001b[49m\u001b[43m \u001b[49m\u001b[43mimg_augmented\u001b[49m\u001b[43m)\u001b[49m\u001b[43m)\u001b[49m\n\u001b[0;32m      9\u001b[0m lbl_train_combined \u001b[38;5;241m=\u001b[39m np\u001b[38;5;241m.\u001b[39mhstack((lbl_train, lbl_augmented))\n",
            "File \u001b[1;32m~\\AppData\\Local\\Programs\\Python\\Python312\\Lib\\site-packages\\numpy\\core\\shape_base.py:289\u001b[0m, in \u001b[0;36mvstack\u001b[1;34m(tup, dtype, casting)\u001b[0m\n\u001b[0;32m    287\u001b[0m \u001b[38;5;28;01mif\u001b[39;00m \u001b[38;5;129;01mnot\u001b[39;00m \u001b[38;5;28misinstance\u001b[39m(arrs, \u001b[38;5;28mlist\u001b[39m):\n\u001b[0;32m    288\u001b[0m     arrs \u001b[38;5;241m=\u001b[39m [arrs]\n\u001b[1;32m--> 289\u001b[0m \u001b[38;5;28;01mreturn\u001b[39;00m \u001b[43m_nx\u001b[49m\u001b[38;5;241;43m.\u001b[39;49m\u001b[43mconcatenate\u001b[49m\u001b[43m(\u001b[49m\u001b[43marrs\u001b[49m\u001b[43m,\u001b[49m\u001b[43m \u001b[49m\u001b[38;5;241;43m0\u001b[39;49m\u001b[43m,\u001b[49m\u001b[43m \u001b[49m\u001b[43mdtype\u001b[49m\u001b[38;5;241;43m=\u001b[39;49m\u001b[43mdtype\u001b[49m\u001b[43m,\u001b[49m\u001b[43m \u001b[49m\u001b[43mcasting\u001b[49m\u001b[38;5;241;43m=\u001b[39;49m\u001b[43mcasting\u001b[49m\u001b[43m)\u001b[49m\n",
            "\u001b[1;31mKeyboardInterrupt\u001b[0m: "
          ]
        }
      ],
      "source": [
        "# Target size for the augmented data\n",
        "target_size = 3500\n",
        "\n",
        "# Generate augmented data\n",
        "img_augmented, lbl_augmented = augment_data(img_train, lbl_train, datagen, target_size)\n",
        "\n",
        "# Combine original and augmented data\n",
        "img_train_combined = np.vstack((img_train, img_augmented))\n",
        "lbl_train_combined = np.hstack((lbl_train, lbl_augmented))"
      ]
    },
    {
      "cell_type": "code",
      "execution_count": null,
      "id": "bfd00101-9ce0-4308-b14f-c696287fbc98",
      "metadata": {
        "jupyter": {
          "source_hidden": true
        },
        "id": "bfd00101-9ce0-4308-b14f-c696287fbc98"
      },
      "outputs": [],
      "source": [
        "# Encode labels\n",
        "label_encoder = LabelEncoder()\n",
        "lbl_train_encoded = label_encoder.fit_transform(lbl_train_combined)\n",
        "lbl_test_encoded = label_encoder.transform(lbl_test)\n",
        "\n",
        "num_classes = len(label_encoder.classes_)\n",
        "\n",
        "# Convert labels to categorical\n",
        "lbl_train_encoded = to_categorical(lbl_train_encoded, num_classes=num_classes)\n",
        "lbl_test_encoded = to_categorical(lbl_test_encoded, num_classes=num_classes)"
      ]
    },
    {
      "cell_type": "code",
      "execution_count": null,
      "id": "96f3d873-f843-47e8-b45c-b242fb18a0bd",
      "metadata": {
        "jupyter": {
          "source_hidden": true
        },
        "id": "96f3d873-f843-47e8-b45c-b242fb18a0bd"
      },
      "outputs": [],
      "source": [
        "# Data augmentation\n",
        "\n",
        "datagen = ImageDataGenerator(\n",
        "    rotation_range=5,\n",
        "    width_shift_range=0.05,\n",
        "    height_shift_range=0.05,\n",
        "    horizontal_flip=True,\n",
        "    fill_mode='nearest'\n",
        ")\n",
        "batch_size = 32\n",
        "# Create a TensorFlow dataset from the ImageDataGenerator\n",
        "train_dataset = tf.data.Dataset.from_generator(\n",
        "    lambda: datagen.flow(img_train, lbl_train_encoded, batch_size=32),\n",
        "    output_signature=(\n",
        "        tf.TensorSpec(shape=(None, 224, 224, 3), dtype=tf.float32),\n",
        "        tf.TensorSpec(shape=(None, num_classes), dtype=tf.float32)\n",
        "    )\n",
        ").repeat()\n",
        "\n",
        "# Create a TensorFlow dataset for validation\n",
        "test_dataset = tf.data.Dataset.from_tensor_slices((img_test, lbl_test_encoded)).batch(batch_size)\n",
        "\n"
      ]
    },
    {
      "cell_type": "code",
      "execution_count": null,
      "id": "6d9e90bc-b79b-4c95-b1bd-fbc026c1b812",
      "metadata": {
        "jupyter": {
          "source_hidden": true
        },
        "id": "6d9e90bc-b79b-4c95-b1bd-fbc026c1b812"
      },
      "outputs": [],
      "source": [
        "# Encode labels\n",
        "label_encoder = LabelEncoder()\n",
        "lbl_train_encoded = label_encoder.fit_transform(lbl_train)\n",
        "lbl_test_encoded = label_encoder.transform(lbl_test)\n",
        "\n",
        "num_classes = len(label_encoder.classes_)\n",
        "num_classes\n",
        "# Convert labels to categorical\n",
        "lbl_train_encoded = to_categorical(lbl_train_encoded, num_classes=num_classes)\n",
        "lbl_test_encoded = to_categorical(lbl_test_encoded, num_classes=num_classes)"
      ]
    },
    {
      "cell_type": "markdown",
      "id": "d4f8f490-de80-4d23-88fa-5eac0edfc7fd",
      "metadata": {
        "id": "d4f8f490-de80-4d23-88fa-5eac0edfc7fd"
      },
      "source": [
        "# DCNN Model"
      ]
    },
    {
      "cell_type": "code",
      "execution_count": null,
      "id": "c0475292-b621-4b5b-8af8-bbae51e5a230",
      "metadata": {
        "id": "c0475292-b621-4b5b-8af8-bbae51e5a230"
      },
      "outputs": [],
      "source": [
        "# Compute class weights\n",
        "class_weights = compute_class_weight(class_weight='balanced', classes=np.unique(lbl_train), y=lbl_train)\n",
        "class_weights_dict = {i: class_weights[i] for i in range(len(class_weights))}\n",
        "\n",
        "# Build the DCNN Model\n",
        "\n",
        "dcnn_model = Sequential([\n",
        "        Input(shape=(224, 224, 3)),\n",
        "        Conv2D(32, (3, 3), activation='relu'),\n",
        "        BatchNormalization(),\n",
        "        MaxPooling2D(pool_size=(2, 2)),\n",
        "        Conv2D(64, (3, 3), activation='relu'),\n",
        "        BatchNormalization(),\n",
        "        MaxPooling2D(pool_size=(2, 2)),\n",
        "        Conv2D(128, (3, 3), activation='relu'),\n",
        "        BatchNormalization(),\n",
        "        MaxPooling2D(pool_size=(2, 2)),\n",
        "        Flatten(),\n",
        "        Dense(256, activation='relu'),\n",
        "        Dropout(0.5),\n",
        "        Dense(num_classes, activation='sigmoid')\n",
        "])\n",
        "\n",
        "\n",
        "dcnn_model.compile(optimizer=tf.keras.optimizers.Adam(learning_rate=1e-6), loss='binary_crossentropy', metrics=['accuracy'])\n",
        "dcnn_model.summary()\n",
        "\n"
      ]
    },
    {
      "cell_type": "code",
      "execution_count": null,
      "id": "1e2102c2-9238-4fd8-bf70-a68c4ae74b97",
      "metadata": {
        "collapsed": true,
        "jupyter": {
          "outputs_hidden": true,
          "source_hidden": true
        },
        "colab": {
          "base_uri": "https://localhost:8080/"
        },
        "id": "1e2102c2-9238-4fd8-bf70-a68c4ae74b97",
        "outputId": "13f35ca7-ad0b-479f-c8e5-be6fc508b864"
      },
      "outputs": [
        {
          "output_type": "stream",
          "name": "stdout",
          "text": [
            "Combined images shape: (3066, 224, 224, 3)\n"
          ]
        }
      ],
      "source": [
        "print(\"Combined images shape:\", img_train.shape)"
      ]
    },
    {
      "cell_type": "code",
      "execution_count": null,
      "id": "d69d7bab-9932-4407-859d-cdb35198ed4a",
      "metadata": {
        "id": "d69d7bab-9932-4407-859d-cdb35198ed4a"
      },
      "outputs": [],
      "source": [
        "# Create TensorFlow datasets\n",
        "train_dataset = tf.data.Dataset.from_tensor_slices((img_train, lbl_train_encoded))\n",
        "train_dataset = train_dataset.shuffle(buffer_size=1000).batch(64).repeat()\n",
        "\n",
        "val_dataset = tf.data.Dataset.from_tensor_slices((img_test, lbl_test_encoded))\n",
        "val_dataset = val_dataset.batch(64)\n",
        "\n",
        "# Calculate steps per epoch\n",
        "steps_per_epoch = len(img_train) // 64\n",
        "validation_steps = len(img_test) // 64\n",
        "\n",
        "from tensorflow.keras.callbacks import EarlyStopping, ModelCheckpoint, LearningRateScheduler\n",
        "\n",
        "# Callbacks\n",
        "early_stopping = EarlyStopping(monitor='val_loss', patience=10, restore_best_weights=True)\n",
        "model_checkpoint = ModelCheckpoint('best_model.keras', monitor='val_loss', save_best_only=True)\n"
      ]
    },
    {
      "cell_type": "code",
      "execution_count": null,
      "id": "f76c1a54-12ac-4e4c-a058-e2488017d45f",
      "metadata": {
        "colab": {
          "base_uri": "https://localhost:8080/"
        },
        "id": "f76c1a54-12ac-4e4c-a058-e2488017d45f",
        "outputId": "9ad74636-1893-4456-ec7b-c738f27bbc17"
      },
      "outputs": [
        {
          "output_type": "stream",
          "name": "stdout",
          "text": [
            "Epoch 1/135\n",
            "\u001b[1m47/47\u001b[0m \u001b[32m━━━━━━━━━━━━━━━━━━━━\u001b[0m\u001b[37m\u001b[0m \u001b[1m11s\u001b[0m 117ms/step - accuracy: 0.6024 - loss: 0.9986 - val_accuracy: 0.3153 - val_loss: 0.7005\n",
            "Epoch 2/135\n",
            "\u001b[1m47/47\u001b[0m \u001b[32m━━━━━━━━━━━━━━━━━━━━\u001b[0m\u001b[37m\u001b[0m \u001b[1m8s\u001b[0m 105ms/step - accuracy: 0.6972 - loss: 0.7577 - val_accuracy: 0.2698 - val_loss: 0.7156\n",
            "Epoch 3/135\n",
            "\u001b[1m 2/47\u001b[0m \u001b[37m━━━━━━━━━━━━━━━━━━━━\u001b[0m \u001b[1m3s\u001b[0m 84ms/step - accuracy: 0.7446 - loss: 0.6063"
          ]
        },
        {
          "output_type": "stream",
          "name": "stderr",
          "text": [
            "/usr/lib/python3.10/contextlib.py:153: UserWarning: Your input ran out of data; interrupting training. Make sure that your dataset or generator can generate at least `steps_per_epoch * epochs` batches. You may need to use the `.repeat()` function when building your dataset.\n",
            "  self.gen.throw(typ, value, traceback)\n"
          ]
        },
        {
          "output_type": "stream",
          "name": "stdout",
          "text": [
            "\u001b[1m47/47\u001b[0m \u001b[32m━━━━━━━━━━━━━━━━━━━━\u001b[0m\u001b[37m\u001b[0m \u001b[1m5s\u001b[0m 98ms/step - accuracy: 0.7512 - loss: 0.6485 - val_accuracy: 0.3153 - val_loss: 0.7261\n",
            "Epoch 4/135\n",
            "\u001b[1m47/47\u001b[0m \u001b[32m━━━━━━━━━━━━━━━━━━━━\u001b[0m\u001b[37m\u001b[0m \u001b[1m4s\u001b[0m 92ms/step - accuracy: 0.7689 - loss: 0.5974 - val_accuracy: 0.2698 - val_loss: 0.7477\n",
            "Epoch 5/135\n",
            "\u001b[1m47/47\u001b[0m \u001b[32m━━━━━━━━━━━━━━━━━━━━\u001b[0m\u001b[37m\u001b[0m \u001b[1m5s\u001b[0m 103ms/step - accuracy: 0.8022 - loss: 0.5118 - val_accuracy: 0.3153 - val_loss: 0.7537\n",
            "Epoch 6/135\n",
            "\u001b[1m47/47\u001b[0m \u001b[32m━━━━━━━━━━━━━━━━━━━━\u001b[0m\u001b[37m\u001b[0m \u001b[1m4s\u001b[0m 91ms/step - accuracy: 0.8061 - loss: 0.4885 - val_accuracy: 0.2698 - val_loss: 0.7544\n",
            "Epoch 7/135\n",
            "\u001b[1m47/47\u001b[0m \u001b[32m━━━━━━━━━━━━━━━━━━━━\u001b[0m\u001b[37m\u001b[0m \u001b[1m5s\u001b[0m 98ms/step - accuracy: 0.8097 - loss: 0.4560 - val_accuracy: 0.3153 - val_loss: 0.7520\n",
            "Epoch 8/135\n",
            "\u001b[1m47/47\u001b[0m \u001b[32m━━━━━━━━━━━━━━━━━━━━\u001b[0m\u001b[37m\u001b[0m \u001b[1m4s\u001b[0m 91ms/step - accuracy: 0.8201 - loss: 0.4144 - val_accuracy: 0.2698 - val_loss: 0.7430\n",
            "Epoch 9/135\n",
            "\u001b[1m47/47\u001b[0m \u001b[32m━━━━━━━━━━━━━━━━━━━━\u001b[0m\u001b[37m\u001b[0m \u001b[1m6s\u001b[0m 125ms/step - accuracy: 0.8536 - loss: 0.3638 - val_accuracy: 0.4503 - val_loss: 0.6836\n",
            "Epoch 10/135\n",
            "\u001b[1m47/47\u001b[0m \u001b[32m━━━━━━━━━━━━━━━━━━━━\u001b[0m\u001b[37m\u001b[0m \u001b[1m6s\u001b[0m 120ms/step - accuracy: 0.8576 - loss: 0.3311 - val_accuracy: 0.7619 - val_loss: 0.6247\n",
            "Epoch 11/135\n",
            "\u001b[1m47/47\u001b[0m \u001b[32m━━━━━━━━━━━━━━━━━━━━\u001b[0m\u001b[37m\u001b[0m \u001b[1m6s\u001b[0m 127ms/step - accuracy: 0.8553 - loss: 0.3512 - val_accuracy: 0.8310 - val_loss: 0.5133\n",
            "Epoch 12/135\n",
            "\u001b[1m47/47\u001b[0m \u001b[32m━━━━━━━━━━━━━━━━━━━━\u001b[0m\u001b[37m\u001b[0m \u001b[1m5s\u001b[0m 118ms/step - accuracy: 0.8647 - loss: 0.3101 - val_accuracy: 0.8889 - val_loss: 0.4139\n",
            "Epoch 13/135\n",
            "\u001b[1m47/47\u001b[0m \u001b[32m━━━━━━━━━━━━━━━━━━━━\u001b[0m\u001b[37m\u001b[0m \u001b[1m6s\u001b[0m 125ms/step - accuracy: 0.8682 - loss: 0.3014 - val_accuracy: 0.8466 - val_loss: 0.3960\n",
            "Epoch 14/135\n",
            "\u001b[1m47/47\u001b[0m \u001b[32m━━━━━━━━━━━━━━━━━━━━\u001b[0m\u001b[37m\u001b[0m \u001b[1m6s\u001b[0m 118ms/step - accuracy: 0.8813 - loss: 0.2735 - val_accuracy: 0.9048 - val_loss: 0.3374\n",
            "Epoch 15/135\n",
            "\u001b[1m47/47\u001b[0m \u001b[32m━━━━━━━━━━━━━━━━━━━━\u001b[0m\u001b[37m\u001b[0m \u001b[1m5s\u001b[0m 98ms/step - accuracy: 0.8871 - loss: 0.2825 - val_accuracy: 0.8452 - val_loss: 0.3476\n",
            "Epoch 16/135\n",
            "\u001b[1m47/47\u001b[0m \u001b[32m━━━━━━━━━━━━━━━━━━━━\u001b[0m\u001b[37m\u001b[0m \u001b[1m5s\u001b[0m 118ms/step - accuracy: 0.8911 - loss: 0.2574 - val_accuracy: 0.9048 - val_loss: 0.2973\n",
            "Epoch 17/135\n",
            "\u001b[1m47/47\u001b[0m \u001b[32m━━━━━━━━━━━━━━━━━━━━\u001b[0m\u001b[37m\u001b[0m \u001b[1m5s\u001b[0m 100ms/step - accuracy: 0.9061 - loss: 0.2249 - val_accuracy: 0.8466 - val_loss: 0.3425\n",
            "Epoch 18/135\n",
            "\u001b[1m47/47\u001b[0m \u001b[32m━━━━━━━━━━━━━━━━━━━━\u001b[0m\u001b[37m\u001b[0m \u001b[1m5s\u001b[0m 118ms/step - accuracy: 0.9015 - loss: 0.2376 - val_accuracy: 0.9048 - val_loss: 0.2909\n",
            "Epoch 19/135\n",
            "\u001b[1m47/47\u001b[0m \u001b[32m━━━━━━━━━━━━━━━━━━━━\u001b[0m\u001b[37m\u001b[0m \u001b[1m5s\u001b[0m 100ms/step - accuracy: 0.9043 - loss: 0.2209 - val_accuracy: 0.8452 - val_loss: 0.3450\n",
            "Epoch 20/135\n",
            "\u001b[1m47/47\u001b[0m \u001b[32m━━━━━━━━━━━━━━━━━━━━\u001b[0m\u001b[37m\u001b[0m \u001b[1m4s\u001b[0m 91ms/step - accuracy: 0.9145 - loss: 0.2255 - val_accuracy: 0.9048 - val_loss: 0.2959\n",
            "Epoch 21/135\n",
            "\u001b[1m47/47\u001b[0m \u001b[32m━━━━━━━━━━━━━━━━━━━━\u001b[0m\u001b[37m\u001b[0m \u001b[1m5s\u001b[0m 98ms/step - accuracy: 0.9068 - loss: 0.2149 - val_accuracy: 0.8509 - val_loss: 0.3467\n",
            "Epoch 22/135\n",
            "\u001b[1m47/47\u001b[0m \u001b[32m━━━━━━━━━━━━━━━━━━━━\u001b[0m\u001b[37m\u001b[0m \u001b[1m6s\u001b[0m 118ms/step - accuracy: 0.9036 - loss: 0.2102 - val_accuracy: 0.9048 - val_loss: 0.2883\n",
            "Epoch 23/135\n",
            "\u001b[1m47/47\u001b[0m \u001b[32m━━━━━━━━━━━━━━━━━━━━\u001b[0m\u001b[37m\u001b[0m \u001b[1m5s\u001b[0m 98ms/step - accuracy: 0.9281 - loss: 0.1918 - val_accuracy: 0.8537 - val_loss: 0.3404\n",
            "Epoch 24/135\n",
            "\u001b[1m47/47\u001b[0m \u001b[32m━━━━━━━━━━━━━━━━━━━━\u001b[0m\u001b[37m\u001b[0m \u001b[1m6s\u001b[0m 118ms/step - accuracy: 0.9261 - loss: 0.1914 - val_accuracy: 0.9048 - val_loss: 0.2809\n",
            "Epoch 25/135\n",
            "\u001b[1m47/47\u001b[0m \u001b[32m━━━━━━━━━━━━━━━━━━━━\u001b[0m\u001b[37m\u001b[0m \u001b[1m5s\u001b[0m 98ms/step - accuracy: 0.9461 - loss: 0.1641 - val_accuracy: 0.8509 - val_loss: 0.3464\n",
            "Epoch 26/135\n",
            "\u001b[1m47/47\u001b[0m \u001b[32m━━━━━━━━━━━━━━━━━━━━\u001b[0m\u001b[37m\u001b[0m \u001b[1m4s\u001b[0m 91ms/step - accuracy: 0.9419 - loss: 0.1647 - val_accuracy: 0.9048 - val_loss: 0.2834\n",
            "Epoch 27/135\n",
            "\u001b[1m47/47\u001b[0m \u001b[32m━━━━━━━━━━━━━━━━━━━━\u001b[0m\u001b[37m\u001b[0m \u001b[1m5s\u001b[0m 98ms/step - accuracy: 0.9435 - loss: 0.1563 - val_accuracy: 0.8509 - val_loss: 0.3390\n",
            "Epoch 28/135\n",
            "\u001b[1m47/47\u001b[0m \u001b[32m━━━━━━━━━━━━━━━━━━━━\u001b[0m\u001b[37m\u001b[0m \u001b[1m6s\u001b[0m 118ms/step - accuracy: 0.9488 - loss: 0.1478 - val_accuracy: 0.9048 - val_loss: 0.2765\n",
            "Epoch 29/135\n",
            "\u001b[1m47/47\u001b[0m \u001b[32m━━━━━━━━━━━━━━━━━━━━\u001b[0m\u001b[37m\u001b[0m \u001b[1m5s\u001b[0m 98ms/step - accuracy: 0.9432 - loss: 0.1572 - val_accuracy: 0.8580 - val_loss: 0.3364\n",
            "Epoch 30/135\n",
            "\u001b[1m47/47\u001b[0m \u001b[32m━━━━━━━━━━━━━━━━━━━━\u001b[0m\u001b[37m\u001b[0m \u001b[1m6s\u001b[0m 119ms/step - accuracy: 0.9407 - loss: 0.1572 - val_accuracy: 0.9048 - val_loss: 0.2540\n",
            "Epoch 31/135\n",
            "\u001b[1m47/47\u001b[0m \u001b[32m━━━━━━━━━━━━━━━━━━━━\u001b[0m\u001b[37m\u001b[0m \u001b[1m5s\u001b[0m 98ms/step - accuracy: 0.9381 - loss: 0.1504 - val_accuracy: 0.8594 - val_loss: 0.3330\n",
            "Epoch 32/135\n",
            "\u001b[1m47/47\u001b[0m \u001b[32m━━━━━━━━━━━━━━━━━━━━\u001b[0m\u001b[37m\u001b[0m \u001b[1m4s\u001b[0m 91ms/step - accuracy: 0.9610 - loss: 0.1292 - val_accuracy: 0.9048 - val_loss: 0.2623\n",
            "Epoch 33/135\n",
            "\u001b[1m47/47\u001b[0m \u001b[32m━━━━━━━━━━━━━━━━━━━━\u001b[0m\u001b[37m\u001b[0m \u001b[1m5s\u001b[0m 98ms/step - accuracy: 0.9542 - loss: 0.1336 - val_accuracy: 0.8622 - val_loss: 0.3361\n",
            "Epoch 34/135\n",
            "\u001b[1m47/47\u001b[0m \u001b[32m━━━━━━━━━━━━━━━━━━━━\u001b[0m\u001b[37m\u001b[0m \u001b[1m4s\u001b[0m 91ms/step - accuracy: 0.9546 - loss: 0.1318 - val_accuracy: 0.9048 - val_loss: 0.2625\n",
            "Epoch 35/135\n",
            "\u001b[1m47/47\u001b[0m \u001b[32m━━━━━━━━━━━━━━━━━━━━\u001b[0m\u001b[37m\u001b[0m \u001b[1m5s\u001b[0m 98ms/step - accuracy: 0.9556 - loss: 0.1271 - val_accuracy: 0.8580 - val_loss: 0.3372\n",
            "Epoch 36/135\n",
            "\u001b[1m47/47\u001b[0m \u001b[32m━━━━━━━━━━━━━━━━━━━━\u001b[0m\u001b[37m\u001b[0m \u001b[1m4s\u001b[0m 91ms/step - accuracy: 0.9519 - loss: 0.1272 - val_accuracy: 0.9206 - val_loss: 0.2575\n",
            "Epoch 37/135\n",
            "\u001b[1m47/47\u001b[0m \u001b[32m━━━━━━━━━━━━━━━━━━━━\u001b[0m\u001b[37m\u001b[0m \u001b[1m5s\u001b[0m 98ms/step - accuracy: 0.9638 - loss: 0.1161 - val_accuracy: 0.8565 - val_loss: 0.3309\n",
            "Epoch 38/135\n",
            "\u001b[1m47/47\u001b[0m \u001b[32m━━━━━━━━━━━━━━━━━━━━\u001b[0m\u001b[37m\u001b[0m \u001b[1m4s\u001b[0m 91ms/step - accuracy: 0.9534 - loss: 0.1313 - val_accuracy: 0.9048 - val_loss: 0.2659\n",
            "Epoch 39/135\n",
            "\u001b[1m47/47\u001b[0m \u001b[32m━━━━━━━━━━━━━━━━━━━━\u001b[0m\u001b[37m\u001b[0m \u001b[1m5s\u001b[0m 98ms/step - accuracy: 0.9567 - loss: 0.1140 - val_accuracy: 0.8608 - val_loss: 0.3327\n",
            "Epoch 40/135\n",
            "\u001b[1m47/47\u001b[0m \u001b[32m━━━━━━━━━━━━━━━━━━━━\u001b[0m\u001b[37m\u001b[0m \u001b[1m4s\u001b[0m 91ms/step - accuracy: 0.9692 - loss: 0.0997 - val_accuracy: 0.9048 - val_loss: 0.2542\n"
          ]
        }
      ],
      "source": [
        "# Compute class weights\n",
        "class_weights = compute_class_weight(class_weight='balanced', classes=np.unique(lbl_train), y=lbl_train)\n",
        "class_weights_dict = {i: class_weights[i] for i in range(len(class_weights))}\n",
        "\n",
        "history = dcnn_model.fit(\n",
        "    train_dataset,\n",
        "    steps_per_epoch=steps_per_epoch,\n",
        "    epochs=135,\n",
        "    validation_data=val_dataset,\n",
        "    validation_steps=validation_steps,\n",
        "    class_weight=class_weights_dict,\n",
        "    callbacks=[early_stopping, model_checkpoint]\n",
        ")"
      ]
    },
    {
      "cell_type": "code",
      "execution_count": null,
      "id": "f878c04e-b7d3-4926-8171-cf3fc57f754c",
      "metadata": {
        "jupyter": {
          "source_hidden": true
        },
        "id": "f878c04e-b7d3-4926-8171-cf3fc57f754c"
      },
      "outputs": [],
      "source": [
        "\n",
        "# Training the DCNN model\n",
        "batch_size = 32\n",
        "epochs = 96\n",
        "history = dcnn_model.fit(\n",
        "    train_dataset,\n",
        "    steps_per_epoch=len(img_train) // batch_size,\n",
        "    epochs=epochs,\n",
        "    validation_data=test_dataset,\n",
        "    validation_steps=len(img_test) // batch_size,\n",
        "    class_weight=class_weights_dict\n",
        ")"
      ]
    },
    {
      "cell_type": "markdown",
      "id": "b96ee4fd-f8d7-4839-84ae-66538686571d",
      "metadata": {
        "id": "b96ee4fd-f8d7-4839-84ae-66538686571d"
      },
      "source": [
        "# Evaluation"
      ]
    },
    {
      "cell_type": "code",
      "execution_count": null,
      "id": "fa5b4157-c5b6-4d21-8f01-a84716c0bf1d",
      "metadata": {
        "colab": {
          "base_uri": "https://localhost:8080/"
        },
        "id": "fa5b4157-c5b6-4d21-8f01-a84716c0bf1d",
        "outputId": "8ba84c7e-3ed1-4542-d89b-3450ed5e1734"
      },
      "outputs": [
        {
          "output_type": "stream",
          "name": "stdout",
          "text": [
            "\u001b[1m12/12\u001b[0m \u001b[32m━━━━━━━━━━━━━━━━━━━━\u001b[0m\u001b[37m\u001b[0m \u001b[1m0s\u001b[0m 32ms/step - accuracy: 0.8503 - loss: 0.3576\n",
            "Test Loss: 0.32916945219039917\n",
            "Test Accuracy: 0.8617992401123047\n"
          ]
        }
      ],
      "source": [
        "# Evaluate the model on the test dataset\n",
        "test_loss, test_accuracy = dcnn_model.evaluate(val_dataset)\n",
        "print(f\"Test Loss: {test_loss}\")\n",
        "print(f\"Test Accuracy: {test_accuracy}\")\n"
      ]
    },
    {
      "cell_type": "code",
      "source": [
        "print(lbl_test.shape)\n"
      ],
      "metadata": {
        "colab": {
          "base_uri": "https://localhost:8080/"
        },
        "id": "BwgnNwAMxltk",
        "outputId": "d985a6ba-b79d-462c-e755-8f4aa90dedcf"
      },
      "id": "BwgnNwAMxltk",
      "execution_count": null,
      "outputs": [
        {
          "output_type": "stream",
          "name": "stdout",
          "text": [
            "(767,)\n"
          ]
        }
      ]
    },
    {
      "cell_type": "code",
      "execution_count": null,
      "id": "40adff7b-465b-482c-824f-6c0720b9a5c0",
      "metadata": {
        "colab": {
          "base_uri": "https://localhost:8080/"
        },
        "id": "40adff7b-465b-482c-824f-6c0720b9a5c0",
        "outputId": "ac64fdf7-eeb6-432b-85d8-a14ac5a9b419"
      },
      "outputs": [
        {
          "output_type": "stream",
          "name": "stdout",
          "text": [
            "\u001b[1m12/12\u001b[0m \u001b[32m━━━━━━━━━━━━━━━━━━━━\u001b[0m\u001b[37m\u001b[0m \u001b[1m0s\u001b[0m 27ms/step\n"
          ]
        }
      ],
      "source": [
        "# Predictions\n",
        "lbl_pred = dcnn_model.predict(val_dataset)\n",
        "lbl_pred_classes = np.argmax(lbl_pred, axis=1)\n",
        "lbl_true_classes = np.argmax(lbl_test_encoded, axis=1)\n"
      ]
    },
    {
      "cell_type": "code",
      "execution_count": null,
      "id": "458751c1-643b-440e-931b-50da145b735e",
      "metadata": {
        "id": "458751c1-643b-440e-931b-50da145b735e"
      },
      "outputs": [],
      "source": []
    },
    {
      "cell_type": "code",
      "execution_count": null,
      "id": "1096b689-7105-41dc-bf41-93b4beb3cdc7",
      "metadata": {
        "colab": {
          "base_uri": "https://localhost:8080/"
        },
        "id": "1096b689-7105-41dc-bf41-93b4beb3cdc7",
        "outputId": "c3a42dac-1e8f-42be-c5dd-2ae05c5fbaa9"
      },
      "outputs": [
        {
          "output_type": "stream",
          "name": "stdout",
          "text": [
            "Classification Report DCNN:\n",
            "                precision    recall  f1-score   support\n",
            "\n",
            "   BenignCase       0.79      0.76      0.77       239\n",
            "MalignantCase       0.89      0.91      0.90       528\n",
            "\n",
            "     accuracy                           0.86       767\n",
            "    macro avg       0.84      0.83      0.84       767\n",
            " weighted avg       0.86      0.86      0.86       767\n",
            "\n"
          ]
        }
      ],
      "source": [
        "\n",
        "# Generate a classification report\n",
        "print(\"Classification Report DCNN:\\n\", classification_report(lbl_true_classes, lbl_pred_classes, target_names=label_encoder.classes_))\n"
      ]
    },
    {
      "cell_type": "code",
      "execution_count": null,
      "id": "90a47790-6624-4d07-9f11-a18b26fe723d",
      "metadata": {
        "colab": {
          "base_uri": "https://localhost:8080/",
          "height": 472
        },
        "id": "90a47790-6624-4d07-9f11-a18b26fe723d",
        "outputId": "dc930604-e04a-473c-e6f9-a3c3555817ea"
      },
      "outputs": [
        {
          "output_type": "display_data",
          "data": {
            "text/plain": [
              "<Figure size 640x480 with 2 Axes>"
            ],
            "image/png": "[encoded data removed]"
          },
          "metadata": {}
        }
      ],
      "source": [
        "# Compute confusion matrix\n",
        "cm_Dcnn = confusion_matrix(lbl_true_classes, lbl_pred_classes)\n",
        "\n",
        "# Display confusion matrix\n",
        "disp_Dcnn = ConfusionMatrixDisplay(confusion_matrix=cm_Dcnn, display_labels=label_encoder.classes_)\n",
        "disp_Dcnn.plot(cmap=plt.cm.Blues)\n",
        "plt.title('Confusion Matrix for DCNN classifier')\n",
        "plt.show()"
      ]
    },
    {
      "cell_type": "code",
      "execution_count": null,
      "id": "1f8bb835-164f-41d0-bb16-8a74b8b28eb8",
      "metadata": {
        "colab": {
          "base_uri": "https://localhost:8080/",
          "height": 927
        },
        "id": "1f8bb835-164f-41d0-bb16-8a74b8b28eb8",
        "outputId": "2a8ca7ff-ef32-4fc9-fad3-dc19fb6dbf0f"
      },
      "outputs": [
        {
          "output_type": "display_data",
          "data": {
            "text/plain": [
              "<Figure size 640x480 with 1 Axes>"
            ],
            "image/png": "[encoded data removed]"
          },
          "metadata": {}
        },
        {
          "output_type": "display_data",
          "data": {
            "text/plain": [
              "<Figure size 640x480 with 1 Axes>"
            ],
            "image/png": "[encoded data removed]"
          },
          "metadata": {}
        }
      ],
      "source": [
        "\n",
        "# Assuming 'history' is the object returned by model.fit()\n",
        "plt.plot(history.history['accuracy'])\n",
        "plt.plot(history.history['val_accuracy'])\n",
        "plt.title('Model Accuracy')\n",
        "plt.xlabel('Epoch')\n",
        "plt.ylabel('Accuracy')\n",
        "plt.legend(['Train', 'Validation'], loc='upper left')\n",
        "plt.show()\n",
        "\n",
        "plt.plot(history.history['loss'])\n",
        "plt.plot(history.history['val_loss'])\n",
        "plt.title('Model Loss')\n",
        "plt.xlabel('Epoch')\n",
        "plt.ylabel('Loss')\n",
        "plt.legend(['Train', 'Validation'], loc='upper left')\n",
        "plt.show()"
      ]
    },
    {
      "cell_type": "code",
      "execution_count": null,
      "id": "6b064348-0f6b-405b-8dc2-c4cc86ecb502",
      "metadata": {
        "id": "6b064348-0f6b-405b-8dc2-c4cc86ecb502"
      },
      "outputs": [],
      "source": []
    }
  ],
  "metadata": {
    "kernelspec": {
      "display_name": "Python 3",
      "name": "python3"
    },
    "language_info": {
      "codemirror_mode": {
        "name": "ipython",
        "version": 3
      },
      "file_extension": ".py",
      "mimetype": "text/x-python",
      "name": "python",
      "nbconvert_exporter": "python",
      "pygments_lexer": "ipython3",
      "version": "3.11.4"
    },
    "colab": {
      "provenance": [],
      "machine_shape": "hm",
      "gpuType": "L4"
    },
    "accelerator": "GPU"
  },
  "nbformat": 4,
  "nbformat_minor": 5
}